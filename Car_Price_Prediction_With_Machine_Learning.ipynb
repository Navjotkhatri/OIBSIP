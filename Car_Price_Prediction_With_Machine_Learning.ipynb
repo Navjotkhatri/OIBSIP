{
  "nbformat": 4,
  "nbformat_minor": 0,
  "metadata": {
    "colab": {
      "provenance": [],
      "authorship_tag": "ABX9TyPE3qFZ5nmC+cQDJi0TZZDm",
      "include_colab_link": true
    },
    "kernelspec": {
      "name": "python3",
      "display_name": "Python 3"
    },
    "language_info": {
      "name": "python"
    }
  },
  "cells": [
    {
      "cell_type": "markdown",
      "metadata": {
        "id": "view-in-github",
        "colab_type": "text"
      },
      "source": [
        "<a href=\"https://colab.research.google.com/github/Navjotkhatri/OIBSIP/blob/main/Car_Price_Prediction_With_Machine_Learning.ipynb\" target=\"_parent\"><img src=\"https://colab.research.google.com/assets/colab-badge.svg\" alt=\"Open In Colab\"/></a>"
      ]
    },
    {
      "cell_type": "markdown",
      "source": [
        "## **Project Name-CAR PRICE PREDICTION WITH MACHINE LEARNING**\n",
        "**Contributor- Navjot Khatri**"
      ],
      "metadata": {
        "id": "dEpDAg6Nauu2"
      }
    },
    {
      "cell_type": "markdown",
      "source": [
        "The price of a car depends on a lot of factors like the goodwill of the brand of the car,\n",
        "features of the car, horsepower and the mileage it gives and many more. Car price\n",
        "prediction is one of the major research areas in machine learning."
      ],
      "metadata": {
        "id": "FCwplWCAa7eJ"
      }
    },
    {
      "cell_type": "code",
      "execution_count": null,
      "metadata": {
        "id": "KfFdmTXWaeek"
      },
      "outputs": [],
      "source": []
    }
  ]
}