{
  "nbformat": 4,
  "nbformat_minor": 0,
  "metadata": {
    "colab": {
      "provenance": [],
      "authorship_tag": "ABX9TyO3S3+XVi2cJJMkCtZ7I0Va",
      "include_colab_link": true
    },
    "kernelspec": {
      "name": "python3",
      "display_name": "Python 3"
    },
    "language_info": {
      "name": "python"
    }
  },
  "cells": [
    {
      "cell_type": "markdown",
      "metadata": {
        "id": "view-in-github",
        "colab_type": "text"
      },
      "source": [
        "<a href=\"https://colab.research.google.com/github/Navjotkhatri/OIBSIP/blob/main/Unemployment_Analysis.ipynb\" target=\"_parent\"><img src=\"https://colab.research.google.com/assets/colab-badge.svg\" alt=\"Open In Colab\"/></a>"
      ]
    },
    {
      "cell_type": "markdown",
      "source": [
        "## **Project Name-Unemployment Analysis**\n",
        "Contributer-Navjot Khatri"
      ],
      "metadata": {
        "id": "gRVNempdSpia"
      }
    },
    {
      "cell_type": "markdown",
      "source": [
        "Unemployment is measured by the unemployment rate which is the number of people\n",
        "who are unemployed as a percentage of the total labour force. We have seen a sharp increase in the unemployment rate during Covid-19\n",
        "\n"
      ],
      "metadata": {
        "id": "CNzCRdpbRjEP"
      }
    },
    {
      "cell_type": "code",
      "execution_count": null,
      "metadata": {
        "id": "XbPGFsFDQOvy"
      },
      "outputs": [],
      "source": []
    }
  ]
}