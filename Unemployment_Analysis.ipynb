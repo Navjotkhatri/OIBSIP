{
  "nbformat": 4,
  "nbformat_minor": 0,
  "metadata": {
    "colab": {
      "provenance": [],
      "authorship_tag": "ABX9TyNKkqVDHErHeuvFO8Klemdv",
      "include_colab_link": true
    },
    "kernelspec": {
      "name": "python3",
      "display_name": "Python 3"
    },
    "language_info": {
      "name": "python"
    }
  },
  "cells": [
    {
      "cell_type": "markdown",
      "metadata": {
        "id": "view-in-github",
        "colab_type": "text"
      },
      "source": [
        "<a href=\"https://colab.research.google.com/github/Navjotkhatri/OIBSIP/blob/main/Unemployment_Analysis.ipynb\" target=\"_parent\"><img src=\"https://colab.research.google.com/assets/colab-badge.svg\" alt=\"Open In Colab\"/></a>"
      ]
    },
    {
      "cell_type": "markdown",
      "source": [
        "## **Project Name-Unemployment Analysis**\n",
        "Contributor-Navjot Khatri"
      ],
      "metadata": {
        "id": "gRVNempdSpia"
      }
    },
    {
      "cell_type": "markdown",
      "source": [
        "Unemployment is measured by the unemployment rate which is the number of people\n",
        "who are unemployed as a percentage of the total labour force. We have seen a sharp increase in the unemployment rate during Covid-19\n",
        "\n"
      ],
      "metadata": {
        "id": "CNzCRdpbRjEP"
      }
    },
    {
      "cell_type": "markdown",
      "source": [
        "**Context**\n",
        "\n",
        "The story behind this datasets is how lock-down affects employment opportunities and how the unemployment rate increases during the Covid-19."
      ],
      "metadata": {
        "id": "y6n3N1U_VfHG"
      }
    },
    {
      "cell_type": "markdown",
      "source": [
        "**Content**\n",
        "\n",
        "This dataset contains the unemployment rate of all the states in India\n",
        "\n",
        "Region = states in India\n",
        "\n",
        "Date = date which the unemployment rate observed\n",
        "\n",
        "Frequency = measuring frequency (Monthly)\n",
        "\n",
        "Estimated Unemployment Rate (%) = percentage of people unemployed in each States of India\n",
        "\n",
        "Estimated Employed = percentage of people employed\n",
        "\n",
        "Estimated Labour Participation Rate (%) = labour force participation rate by dividing the number of people actively participating in the labour force by the\n",
        "total number of people eligible to participate in the labor force\n",
        "force"
      ],
      "metadata": {
        "id": "Kpa_XraLVwey"
      }
    },
    {
      "cell_type": "markdown",
      "source": [
        "**questions?**\n",
        "\n",
        "* How Covid-19 affects the employment\n",
        "\n",
        "* how far the unemployment rate will go"
      ],
      "metadata": {
        "id": "TxVZrSYoWBzc"
      }
    },
    {
      "cell_type": "code",
      "execution_count": null,
      "metadata": {
        "id": "XbPGFsFDQOvy"
      },
      "outputs": [],
      "source": []
    }
  ]
}